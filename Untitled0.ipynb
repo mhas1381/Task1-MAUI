{
  "nbformat": 4,
  "nbformat_minor": 0,
  "metadata": {
    "colab": {
      "provenance": [],
      "mount_file_id": "1Y6WZcZf2-W0FA4U3rfMDuIlQWgyEmRUZ",
      "authorship_tag": "ABX9TyNpvT2QHsgntjMKl6L2jVaA",
      "include_colab_link": true
    },
    "kernelspec": {
      "name": "python3",
      "display_name": "Python 3"
    },
    "language_info": {
      "name": "python"
    }
  },
  "cells": [
    {
      "cell_type": "markdown",
      "metadata": {
        "id": "view-in-github",
        "colab_type": "text"
      },
      "source": [
        "<a href=\"https://colab.research.google.com/github/mhas1381/Task1-MAUI/blob/main/Untitled0.ipynb\" target=\"_parent\"><img src=\"https://colab.research.google.com/assets/colab-badge.svg\" alt=\"Open In Colab\"/></a>"
      ]
    },
    {
      "cell_type": "code",
      "execution_count": 6,
      "metadata": {
        "colab": {
          "base_uri": "https://localhost:8080/"
        },
        "id": "G2CoLwzuHZyU",
        "outputId": "e878f3a3-9ea1-417f-e7e1-3187d2de0d5a"
      },
      "outputs": [
        {
          "output_type": "stream",
          "name": "stdout",
          "text": [
            "1\n",
            "4\n",
            "53\n",
            "[2, 8, 106]\n",
            "12 1\n",
            "11 2\n",
            "9 3\n",
            "6 4\n",
            "2 5\n"
          ]
        }
      ],
      "source": [
        "a = [1 , 4, 53]\n",
        "for i in a :\n",
        "  print(i)\n",
        "\n",
        "b = [c*2 for c in a]\n",
        "print(b)\n",
        "N = 12\n",
        "i = 0\n",
        "while N>=i:\n",
        "    N -= i\n",
        "    i += 1\n",
        "    print(N , i , end=\"\\n\")"
      ]
    },
    {
      "cell_type": "code",
      "source": [
        "path = \"/content/drive/MyDrive/Sina_Comsys/a.txt\""
      ],
      "metadata": {
        "id": "SVGcy7fRIhqE"
      },
      "execution_count": 7,
      "outputs": []
    },
    {
      "cell_type": "code",
      "source": [
        "import os\n",
        "with open(path , \"r\") as file :\n",
        "  for line in file.readlines() :\n",
        "    print(\"line\" , line )"
      ],
      "metadata": {
        "colab": {
          "base_uri": "https://localhost:8080/"
        },
        "id": "Vs-7dhY5Jjy0",
        "outputId": "01af2e03-b3ff-4ac8-e2a3-648ea5e7f05f"
      },
      "execution_count": 12,
      "outputs": [
        {
          "output_type": "stream",
          "name": "stdout",
          "text": [
            "line Hello Mohammad Hossein \n"
          ]
        }
      ]
    },
    {
      "cell_type": "code",
      "source": [
        "file = open(path , \"a\" )\n",
        "file.write(\"Hello Mohammad Hossein \")"
      ],
      "metadata": {
        "colab": {
          "base_uri": "https://localhost:8080/"
        },
        "id": "QLVxM_mRJtJa",
        "outputId": "9d212774-54af-4eee-84b4-b66de439bf67"
      },
      "execution_count": 10,
      "outputs": [
        {
          "output_type": "execute_result",
          "data": {
            "text/plain": [
              "23"
            ]
          },
          "metadata": {},
          "execution_count": 10
        }
      ]
    },
    {
      "cell_type": "code",
      "source": [
        "file.close()"
      ],
      "metadata": {
        "id": "IixyRp7-J72b"
      },
      "execution_count": 11,
      "outputs": []
    },
    {
      "cell_type": "code",
      "source": [],
      "metadata": {
        "id": "nMo7zFR9J9Fi"
      },
      "execution_count": null,
      "outputs": []
    }
  ]
}